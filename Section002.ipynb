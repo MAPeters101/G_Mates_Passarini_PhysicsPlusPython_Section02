{
  "nbformat": 4,
  "nbformat_minor": 0,
  "metadata": {
    "colab": {
      "provenance": [],
      "authorship_tag": "ABX9TyOGaE8CU4Ayk1XoaOGXpdfQ",
      "include_colab_link": true
    },
    "kernelspec": {
      "name": "python3",
      "display_name": "Python 3"
    },
    "language_info": {
      "name": "python"
    }
  },
  "cells": [
    {
      "cell_type": "markdown",
      "metadata": {
        "id": "view-in-github",
        "colab_type": "text"
      },
      "source": [
        "<a href=\"https://colab.research.google.com/github/MAPeters101/G_Mates_Passarini_PhysicsPlusPython_Section02/blob/master/Section002.ipynb\" target=\"_parent\"><img src=\"https://colab.research.google.com/assets/colab-badge.svg\" alt=\"Open In Colab\"/></a>"
      ]
    },
    {
      "cell_type": "code",
      "execution_count": null,
      "metadata": {
        "id": "A3tmsVBPaYFT"
      },
      "outputs": [],
      "source": []
    },
    {
      "cell_type": "markdown",
      "source": [
        "#04: Variables and Data Types"
      ],
      "metadata": {
        "id": "EaJJox3Na-Ts"
      }
    },
    {
      "cell_type": "code",
      "source": [
        "x = 3\n",
        "y = 2"
      ],
      "metadata": {
        "id": "s0VdI0AdbG7c"
      },
      "execution_count": null,
      "outputs": []
    },
    {
      "cell_type": "code",
      "source": [
        "x + y"
      ],
      "metadata": {
        "colab": {
          "base_uri": "https://localhost:8080/"
        },
        "id": "2BwwYqjrbcbG",
        "outputId": "60129286-7376-4876-dbe6-0f5ecc4bf903"
      },
      "execution_count": null,
      "outputs": [
        {
          "output_type": "execute_result",
          "data": {
            "text/plain": [
              "5"
            ]
          },
          "metadata": {},
          "execution_count": 3
        }
      ]
    },
    {
      "cell_type": "code",
      "source": [
        "y"
      ],
      "metadata": {
        "colab": {
          "base_uri": "https://localhost:8080/"
        },
        "id": "3ZtYZLErbeRr",
        "outputId": "d82bb688-3f31-43bb-dab1-7d9874193adb"
      },
      "execution_count": null,
      "outputs": [
        {
          "output_type": "execute_result",
          "data": {
            "text/plain": [
              "2"
            ]
          },
          "metadata": {},
          "execution_count": 4
        }
      ]
    },
    {
      "cell_type": "code",
      "source": [
        "print(x)"
      ],
      "metadata": {
        "colab": {
          "base_uri": "https://localhost:8080/"
        },
        "id": "sx-14Gvebf6u",
        "outputId": "3ea00154-8213-4fb4-8f6e-c7e3bdc05496"
      },
      "execution_count": null,
      "outputs": [
        {
          "output_type": "stream",
          "name": "stdout",
          "text": [
            "3\n"
          ]
        }
      ]
    },
    {
      "cell_type": "code",
      "source": [
        "print(y)"
      ],
      "metadata": {
        "colab": {
          "base_uri": "https://localhost:8080/"
        },
        "id": "rGl_kaPVblQk",
        "outputId": "40c92e14-75bf-48e9-fbe3-3b644e999ddd"
      },
      "execution_count": null,
      "outputs": [
        {
          "output_type": "stream",
          "name": "stdout",
          "text": [
            "2\n"
          ]
        }
      ]
    },
    {
      "cell_type": "code",
      "source": [
        "print('The first number is',y,'and the second number is',x)"
      ],
      "metadata": {
        "colab": {
          "base_uri": "https://localhost:8080/"
        },
        "id": "SLkpt5avbnL1",
        "outputId": "08e7db9b-4ce1-4372-c2e1-3fd7c3db7685"
      },
      "execution_count": null,
      "outputs": [
        {
          "output_type": "stream",
          "name": "stdout",
          "text": [
            "The first number is 2 and the second number is 3\n"
          ]
        }
      ]
    },
    {
      "cell_type": "code",
      "source": [
        "print('The numbers are',x,'and',y)"
      ],
      "metadata": {
        "colab": {
          "base_uri": "https://localhost:8080/"
        },
        "id": "mMkfnyaebzSp",
        "outputId": "b1dae1c5-6b47-4a9d-d094-67b135905c14"
      },
      "execution_count": null,
      "outputs": [
        {
          "output_type": "stream",
          "name": "stdout",
          "text": [
            "The numbers are 3 and 2\n"
          ]
        }
      ]
    },
    {
      "cell_type": "code",
      "source": [
        "type(y)"
      ],
      "metadata": {
        "colab": {
          "base_uri": "https://localhost:8080/"
        },
        "id": "cddIBDDLiYWw",
        "outputId": "77fbd4d3-458c-4ee2-a453-1960182269e1"
      },
      "execution_count": null,
      "outputs": [
        {
          "output_type": "execute_result",
          "data": {
            "text/plain": [
              "int"
            ]
          },
          "metadata": {},
          "execution_count": 10
        }
      ]
    },
    {
      "cell_type": "code",
      "source": [
        "n = 4.5"
      ],
      "metadata": {
        "id": "1dIEFDO4ib57"
      },
      "execution_count": null,
      "outputs": []
    },
    {
      "cell_type": "code",
      "source": [
        "type(n)"
      ],
      "metadata": {
        "colab": {
          "base_uri": "https://localhost:8080/"
        },
        "id": "_FtASOl3if7z",
        "outputId": "3423ba42-a09b-4727-a392-4347f8fbecfe"
      },
      "execution_count": null,
      "outputs": [
        {
          "output_type": "execute_result",
          "data": {
            "text/plain": [
              "float"
            ]
          },
          "metadata": {},
          "execution_count": 12
        }
      ]
    },
    {
      "cell_type": "code",
      "source": [
        "phrase = 'I love Python'"
      ],
      "metadata": {
        "id": "K_ykyuDUih3H"
      },
      "execution_count": null,
      "outputs": []
    },
    {
      "cell_type": "code",
      "source": [
        "type(phrase)"
      ],
      "metadata": {
        "colab": {
          "base_uri": "https://localhost:8080/"
        },
        "id": "e2Xp92THin5N",
        "outputId": "802adc50-00eb-4ecb-9f9e-fcb36ac831ce"
      },
      "execution_count": null,
      "outputs": [
        {
          "output_type": "execute_result",
          "data": {
            "text/plain": [
              "str"
            ]
          },
          "metadata": {},
          "execution_count": 14
        }
      ]
    },
    {
      "cell_type": "markdown",
      "source": [
        "### Boolean values"
      ],
      "metadata": {
        "id": "cF349ilFizeM"
      }
    },
    {
      "cell_type": "code",
      "source": [
        "a = True\n",
        "b = False"
      ],
      "metadata": {
        "id": "39XkHQGbi2__"
      },
      "execution_count": null,
      "outputs": []
    },
    {
      "cell_type": "code",
      "source": [
        "type(a)"
      ],
      "metadata": {
        "colab": {
          "base_uri": "https://localhost:8080/"
        },
        "id": "JMsiZQzPi740",
        "outputId": "a9728930-7a1b-4864-b5fb-41fee4d8519f"
      },
      "execution_count": null,
      "outputs": [
        {
          "output_type": "execute_result",
          "data": {
            "text/plain": [
              "bool"
            ]
          },
          "metadata": {},
          "execution_count": 16
        }
      ]
    },
    {
      "cell_type": "markdown",
      "source": [
        "### Collections"
      ],
      "metadata": {
        "id": "FfTJHBJojEgi"
      }
    },
    {
      "cell_type": "code",
      "source": [
        "z = (1,4,3,True,4,5)"
      ],
      "metadata": {
        "id": "4osOP077i-Td"
      },
      "execution_count": null,
      "outputs": []
    },
    {
      "cell_type": "code",
      "source": [
        "type(z)"
      ],
      "metadata": {
        "colab": {
          "base_uri": "https://localhost:8080/"
        },
        "id": "Fs2SOh2hjOgU",
        "outputId": "779f50e2-4706-43b7-a866-92cc020d01cf"
      },
      "execution_count": null,
      "outputs": [
        {
          "output_type": "execute_result",
          "data": {
            "text/plain": [
              "tuple"
            ]
          },
          "metadata": {},
          "execution_count": 18
        }
      ]
    },
    {
      "cell_type": "markdown",
      "source": [
        "# 05: Arithmetic operators"
      ],
      "metadata": {
        "id": "LF-SxXELj3Ay"
      }
    },
    {
      "cell_type": "markdown",
      "source": [
        "### Addition"
      ],
      "metadata": {
        "id": "woIDzT6XkEQx"
      }
    },
    {
      "cell_type": "code",
      "source": [
        "2 + 3"
      ],
      "metadata": {
        "colab": {
          "base_uri": "https://localhost:8080/"
        },
        "id": "I6nNR0IJjRdG",
        "outputId": "6ea5baa2-abad-4de6-960d-a9b76450d38b"
      },
      "execution_count": null,
      "outputs": [
        {
          "output_type": "execute_result",
          "data": {
            "text/plain": [
              "5"
            ]
          },
          "metadata": {},
          "execution_count": 19
        }
      ]
    },
    {
      "cell_type": "markdown",
      "source": [
        "### Subtraction"
      ],
      "metadata": {
        "id": "fw4RrdNIkLPB"
      }
    },
    {
      "cell_type": "code",
      "source": [
        "5 - 3"
      ],
      "metadata": {
        "colab": {
          "base_uri": "https://localhost:8080/"
        },
        "id": "X1G97A15kJ5K",
        "outputId": "a3a54849-e226-4ed9-90c7-58e6a9e63201"
      },
      "execution_count": null,
      "outputs": [
        {
          "output_type": "execute_result",
          "data": {
            "text/plain": [
              "2"
            ]
          },
          "metadata": {},
          "execution_count": 20
        }
      ]
    },
    {
      "cell_type": "markdown",
      "source": [
        "### Multiplication"
      ],
      "metadata": {
        "id": "xVYxG7VBkRQB"
      }
    },
    {
      "cell_type": "code",
      "source": [
        "3*2"
      ],
      "metadata": {
        "colab": {
          "base_uri": "https://localhost:8080/"
        },
        "id": "jpCiq4khkP0c",
        "outputId": "6d21c5ec-09e5-4315-cbe0-d7ce0ed1e499"
      },
      "execution_count": null,
      "outputs": [
        {
          "output_type": "execute_result",
          "data": {
            "text/plain": [
              "6"
            ]
          },
          "metadata": {},
          "execution_count": 21
        }
      ]
    },
    {
      "cell_type": "markdown",
      "source": [
        "### Division"
      ],
      "metadata": {
        "id": "6ncxMPIZkXcp"
      }
    },
    {
      "cell_type": "code",
      "source": [
        "6/2"
      ],
      "metadata": {
        "colab": {
          "base_uri": "https://localhost:8080/"
        },
        "id": "mStIGs6vkVwh",
        "outputId": "4df789bc-1088-473a-9bae-4a20462c01dc"
      },
      "execution_count": null,
      "outputs": [
        {
          "output_type": "execute_result",
          "data": {
            "text/plain": [
              "3.0"
            ]
          },
          "metadata": {},
          "execution_count": 22
        }
      ]
    },
    {
      "cell_type": "code",
      "source": [
        "7//3 #integer division"
      ],
      "metadata": {
        "colab": {
          "base_uri": "https://localhost:8080/"
        },
        "id": "IcqzSmbQkbYy",
        "outputId": "042775d9-8ab9-4f96-e92d-a47c6054d290"
      },
      "execution_count": null,
      "outputs": [
        {
          "output_type": "execute_result",
          "data": {
            "text/plain": [
              "2"
            ]
          },
          "metadata": {},
          "execution_count": 23
        }
      ]
    },
    {
      "cell_type": "code",
      "source": [
        "7%3 #rest of the division"
      ],
      "metadata": {
        "colab": {
          "base_uri": "https://localhost:8080/"
        },
        "id": "_zQRw4Aikjyd",
        "outputId": "aceec3b7-81e1-41af-edbb-b4731a28d613"
      },
      "execution_count": null,
      "outputs": [
        {
          "output_type": "execute_result",
          "data": {
            "text/plain": [
              "1"
            ]
          },
          "metadata": {},
          "execution_count": 24
        }
      ]
    },
    {
      "cell_type": "markdown",
      "source": [
        "### Exponentiation and n-th root calculation"
      ],
      "metadata": {
        "id": "M2fMZSk5kqz6"
      }
    },
    {
      "cell_type": "code",
      "source": [
        "2**3 #expontiation"
      ],
      "metadata": {
        "colab": {
          "base_uri": "https://localhost:8080/"
        },
        "id": "GcQ0zNLUkpL2",
        "outputId": "1f4b551a-02ec-4d35-8503-8b27bc1eb416"
      },
      "execution_count": null,
      "outputs": [
        {
          "output_type": "execute_result",
          "data": {
            "text/plain": [
              "8"
            ]
          },
          "metadata": {},
          "execution_count": 25
        }
      ]
    },
    {
      "cell_type": "code",
      "source": [
        "#cubic root of 27\n",
        "27**(1/3)"
      ],
      "metadata": {
        "colab": {
          "base_uri": "https://localhost:8080/"
        },
        "id": "ERgcmFRDlCDn",
        "outputId": "de73b239-0c6e-43d0-fb21-b0370132e2b1"
      },
      "execution_count": null,
      "outputs": [
        {
          "output_type": "execute_result",
          "data": {
            "text/plain": [
              "3.0"
            ]
          },
          "metadata": {},
          "execution_count": 26
        }
      ]
    },
    {
      "cell_type": "code",
      "source": [
        "16**(1/4)"
      ],
      "metadata": {
        "colab": {
          "base_uri": "https://localhost:8080/"
        },
        "id": "DkDJisTBlMfO",
        "outputId": "3536c703-4ab6-4bb1-bc2e-b070b94d2c5e"
      },
      "execution_count": null,
      "outputs": [
        {
          "output_type": "execute_result",
          "data": {
            "text/plain": [
              "2.0"
            ]
          },
          "metadata": {},
          "execution_count": 27
        }
      ]
    },
    {
      "cell_type": "code",
      "source": [
        "import math"
      ],
      "metadata": {
        "id": "j3xu1X6xlU1p"
      },
      "execution_count": null,
      "outputs": []
    },
    {
      "cell_type": "code",
      "source": [
        "math.sqrt(81)"
      ],
      "metadata": {
        "colab": {
          "base_uri": "https://localhost:8080/"
        },
        "id": "wec8JFzBlZm4",
        "outputId": "60fd8015-368d-477e-80da-8d715cd3184c"
      },
      "execution_count": null,
      "outputs": [
        {
          "output_type": "execute_result",
          "data": {
            "text/plain": [
              "9.0"
            ]
          },
          "metadata": {},
          "execution_count": 29
        }
      ]
    },
    {
      "cell_type": "markdown",
      "source": [
        "###Order of operations"
      ],
      "metadata": {
        "id": "H_bf1K7TlgGa"
      }
    },
    {
      "cell_type": "code",
      "source": [
        "2 + 4 * 3**4"
      ],
      "metadata": {
        "colab": {
          "base_uri": "https://localhost:8080/"
        },
        "id": "nVaK1Nqclel4",
        "outputId": "62f0fe9a-70a7-4d02-f5bc-cf46a93fea27"
      },
      "execution_count": null,
      "outputs": [
        {
          "output_type": "execute_result",
          "data": {
            "text/plain": [
              "326"
            ]
          },
          "metadata": {},
          "execution_count": 30
        }
      ]
    },
    {
      "cell_type": "code",
      "source": [
        "#exception to the rule\n",
        "(2 + 4)*3**4"
      ],
      "metadata": {
        "colab": {
          "base_uri": "https://localhost:8080/"
        },
        "id": "Ri9brSm-lrUS",
        "outputId": "18d0e874-1af2-479e-b73a-d9f827970ba0"
      },
      "execution_count": null,
      "outputs": [
        {
          "output_type": "execute_result",
          "data": {
            "text/plain": [
              "486"
            ]
          },
          "metadata": {},
          "execution_count": 31
        }
      ]
    },
    {
      "cell_type": "markdown",
      "source": [
        "#06: User input"
      ],
      "metadata": {
        "id": "ijmDCVU5mcS5"
      }
    },
    {
      "cell_type": "markdown",
      "source": [
        "###Numerical inputs"
      ],
      "metadata": {
        "id": "axLc4WKfmjZh"
      }
    },
    {
      "cell_type": "code",
      "source": [
        "age = int(input('How old are you? '))"
      ],
      "metadata": {
        "colab": {
          "base_uri": "https://localhost:8080/"
        },
        "id": "phDsNhJWlzfJ",
        "outputId": "a237e23d-5e41-4f72-8840-e646a4450161"
      },
      "execution_count": null,
      "outputs": [
        {
          "name": "stdout",
          "output_type": "stream",
          "text": [
            "How old are you? 28\n"
          ]
        }
      ]
    },
    {
      "cell_type": "code",
      "source": [
        "age"
      ],
      "metadata": {
        "colab": {
          "base_uri": "https://localhost:8080/"
        },
        "id": "fOVK4Qf7m5hr",
        "outputId": "96691d1b-e5e3-4611-d11e-05f6470e0e0c"
      },
      "execution_count": null,
      "outputs": [
        {
          "output_type": "execute_result",
          "data": {
            "text/plain": [
              "28"
            ]
          },
          "metadata": {},
          "execution_count": 33
        }
      ]
    },
    {
      "cell_type": "code",
      "source": [
        "pH = float(input('What is the pH of the soil? '))"
      ],
      "metadata": {
        "id": "eiHe6B5UnA1x",
        "colab": {
          "base_uri": "https://localhost:8080/"
        },
        "outputId": "a740fab4-eee0-4d6a-d518-996ffdddb3a5"
      },
      "execution_count": 38,
      "outputs": [
        {
          "name": "stdout",
          "output_type": "stream",
          "text": [
            "What is the pH of the soil? 5.5\n"
          ]
        }
      ]
    },
    {
      "cell_type": "code",
      "source": [
        "pH"
      ],
      "metadata": {
        "id": "lZR8lXjrm882",
        "colab": {
          "base_uri": "https://localhost:8080/"
        },
        "outputId": "259c618b-70e8-4597-9647-f269084eab0b"
      },
      "execution_count": 40,
      "outputs": [
        {
          "output_type": "execute_result",
          "data": {
            "text/plain": [
              "5.5"
            ]
          },
          "metadata": {},
          "execution_count": 40
        }
      ]
    },
    {
      "cell_type": "markdown",
      "source": [
        "###Text inputs"
      ],
      "metadata": {
        "id": "mFL0fMkeneY_"
      }
    },
    {
      "cell_type": "code",
      "source": [
        "name = str(input('What is your name? '))"
      ],
      "metadata": {
        "id": "gcEMn8NOncfS",
        "colab": {
          "base_uri": "https://localhost:8080/"
        },
        "outputId": "07904e5f-f8ee-45df-9518-b8aa6079a4bc"
      },
      "execution_count": 41,
      "outputs": [
        {
          "name": "stdout",
          "output_type": "stream",
          "text": [
            "What is your name? Mark\n"
          ]
        }
      ]
    },
    {
      "cell_type": "code",
      "source": [
        "name"
      ],
      "metadata": {
        "id": "HK8XP0yDnv6j",
        "colab": {
          "base_uri": "https://localhost:8080/",
          "height": 35
        },
        "outputId": "364ce289-e868-4079-ebac-98a0199fc0bf"
      },
      "execution_count": 42,
      "outputs": [
        {
          "output_type": "execute_result",
          "data": {
            "text/plain": [
              "'Mark'"
            ],
            "application/vnd.google.colaboratory.intrinsic+json": {
              "type": "string"
            }
          },
          "metadata": {},
          "execution_count": 42
        }
      ]
    },
    {
      "cell_type": "code",
      "source": [
        "print('Your name is',name,', and you are',age,'years old.')"
      ],
      "metadata": {
        "id": "eyN8ZOtMnzg_",
        "colab": {
          "base_uri": "https://localhost:8080/"
        },
        "outputId": "9546d0fc-f21e-470f-e1f6-0a25e75c955b"
      },
      "execution_count": 43,
      "outputs": [
        {
          "output_type": "stream",
          "name": "stdout",
          "text": [
            "Your name is Mark , and you are 28 years old.\n"
          ]
        }
      ]
    },
    {
      "cell_type": "markdown",
      "source": [
        "#07: Exercises"
      ],
      "metadata": {
        "id": "Zj03F34gsoEw"
      }
    },
    {
      "cell_type": "code",
      "source": [
        "m = float(input('What is the mass of the object? '))"
      ],
      "metadata": {
        "colab": {
          "base_uri": "https://localhost:8080/"
        },
        "id": "a2t02vo5oxlU",
        "outputId": "58af0024-3c67-4f2c-b137-c4f57ba5e023"
      },
      "execution_count": 44,
      "outputs": [
        {
          "name": "stdout",
          "output_type": "stream",
          "text": [
            "What is the mass of the object? 3.5\n"
          ]
        }
      ]
    },
    {
      "cell_type": "code",
      "source": [
        "a = float(input('What is the acceleration of the object? '))"
      ],
      "metadata": {
        "colab": {
          "base_uri": "https://localhost:8080/"
        },
        "id": "CkT-4zlgtnWy",
        "outputId": "2634127a-605a-430d-95a3-49b76ee18a2c"
      },
      "execution_count": 45,
      "outputs": [
        {
          "name": "stdout",
          "output_type": "stream",
          "text": [
            "What is the acceleration of the object? 2.0\n"
          ]
        }
      ]
    },
    {
      "cell_type": "code",
      "source": [
        "F = m*a"
      ],
      "metadata": {
        "id": "jtSV6jTjtsNX"
      },
      "execution_count": 46,
      "outputs": []
    },
    {
      "cell_type": "code",
      "source": [
        "print('The mass is',m,'the acceleration is',a,'and the force is',F)"
      ],
      "metadata": {
        "colab": {
          "base_uri": "https://localhost:8080/"
        },
        "id": "AVjFwPxbtwMt",
        "outputId": "9234ad33-2ebf-40e8-dc08-69a90f1050f8"
      },
      "execution_count": 47,
      "outputs": [
        {
          "output_type": "stream",
          "name": "stdout",
          "text": [
            "The mass ix 3.5 the acceleration is 2.0 and the force is 7.0\n"
          ]
        }
      ]
    },
    {
      "cell_type": "code",
      "source": [
        "G = 6.67*10**-11"
      ],
      "metadata": {
        "id": "SBYM_42tuBAl"
      },
      "execution_count": 48,
      "outputs": []
    },
    {
      "cell_type": "code",
      "source": [
        "M1 = float(input('What is the mass of the first object? '))"
      ],
      "metadata": {
        "colab": {
          "base_uri": "https://localhost:8080/"
        },
        "id": "ZlY-ty0TuY6g",
        "outputId": "f07235a8-6f24-4ac1-935f-c32f6e7f6c36"
      },
      "execution_count": 49,
      "outputs": [
        {
          "name": "stdout",
          "output_type": "stream",
          "text": [
            "What is the mass of the first object? 2.0\n"
          ]
        }
      ]
    },
    {
      "cell_type": "code",
      "source": [
        "M2 = float(input('What is the mass of the second object? '))"
      ],
      "metadata": {
        "colab": {
          "base_uri": "https://localhost:8080/"
        },
        "id": "Zz2aTB79ueTb",
        "outputId": "b09ec2d8-daa4-4012-ca5b-39d6ab45f380"
      },
      "execution_count": 50,
      "outputs": [
        {
          "name": "stdout",
          "output_type": "stream",
          "text": [
            "What is the mass of the second object? 2\n"
          ]
        }
      ]
    },
    {
      "cell_type": "code",
      "source": [
        "r = float(input('What is the distance between the objects? '))"
      ],
      "metadata": {
        "colab": {
          "base_uri": "https://localhost:8080/"
        },
        "id": "qqNodQMEuj9y",
        "outputId": "2027e411-8758-444e-bcac-4902c873561f"
      },
      "execution_count": 51,
      "outputs": [
        {
          "name": "stdout",
          "output_type": "stream",
          "text": [
            "What is the distance between the objects? 3.0\n"
          ]
        }
      ]
    },
    {
      "cell_type": "code",
      "source": [
        "Gf = G * (M1*M2)/r**2"
      ],
      "metadata": {
        "id": "Rg16R7Vdu6Vg"
      },
      "execution_count": 52,
      "outputs": []
    },
    {
      "cell_type": "code",
      "source": [
        "print('The gravitational force is',Gf)"
      ],
      "metadata": {
        "colab": {
          "base_uri": "https://localhost:8080/"
        },
        "id": "c7MoP4gvvD2Q",
        "outputId": "493cd8eb-8456-45c9-adcc-e798f426cc78"
      },
      "execution_count": 53,
      "outputs": [
        {
          "output_type": "stream",
          "name": "stdout",
          "text": [
            "The gravitational force is 2.964444444444445e-11\n"
          ]
        }
      ]
    },
    {
      "cell_type": "markdown",
      "source": [
        "#08: Calculating the force"
      ],
      "metadata": {
        "id": "HaYGpINfvqwH"
      }
    },
    {
      "cell_type": "code",
      "source": [
        "m = 2.92\n",
        "a = 2.05\n",
        "\n",
        "f = m*a"
      ],
      "metadata": {
        "id": "7RP2LaQjvM2y"
      },
      "execution_count": 54,
      "outputs": []
    },
    {
      "cell_type": "code",
      "source": [
        "print('The mass is',m,'the acceleration is',a,', and the force is',f)"
      ],
      "metadata": {
        "colab": {
          "base_uri": "https://localhost:8080/"
        },
        "id": "_qX6rmuIwZIk",
        "outputId": "a822237e-1fc2-4c74-ff6b-d4a01a08d912"
      },
      "execution_count": 58,
      "outputs": [
        {
          "output_type": "stream",
          "name": "stdout",
          "text": [
            "The mass is 2.92 the acceleration is 2.05 , and the force is 5.986\n"
          ]
        }
      ]
    },
    {
      "cell_type": "markdown",
      "source": [
        "#09: Gravitational force"
      ],
      "metadata": {
        "id": "MoL23z6kxWK2"
      }
    },
    {
      "cell_type": "markdown",
      "source": [],
      "metadata": {
        "id": "0bo2C2Z_xS1-"
      }
    },
    {
      "cell_type": "code",
      "source": [
        "G = 6.67*10**(-11)"
      ],
      "metadata": {
        "id": "jQMcQykXwbC6"
      },
      "execution_count": 59,
      "outputs": []
    },
    {
      "cell_type": "code",
      "source": [
        "m1 = float(input('M1: '))\n",
        "m2 = float(input('M2: '))\n",
        "r = float(input('Radius: '))"
      ],
      "metadata": {
        "colab": {
          "base_uri": "https://localhost:8080/"
        },
        "id": "pTarafrwx0Xm",
        "outputId": "46bcb471-fd57-4afe-8341-6a32224711f2"
      },
      "execution_count": 63,
      "outputs": [
        {
          "name": "stdout",
          "output_type": "stream",
          "text": [
            "M1: 3492800000\n",
            "M2: 29883894\n",
            "Radius: 398482\n"
          ]
        }
      ]
    },
    {
      "cell_type": "code",
      "source": [
        "#Formula\n",
        "Gf = G*m1*m2/r**2"
      ],
      "metadata": {
        "id": "2A_SqwCFx3oW"
      },
      "execution_count": 64,
      "outputs": []
    },
    {
      "cell_type": "code",
      "source": [
        "print('The gravitational force is',Gf)"
      ],
      "metadata": {
        "colab": {
          "base_uri": "https://localhost:8080/"
        },
        "id": "fvpfoGFmx0Dm",
        "outputId": "12ce999a-9d5c-4b88-abc1-4f7770ccbf1e"
      },
      "execution_count": 65,
      "outputs": [
        {
          "output_type": "stream",
          "name": "stdout",
          "text": [
            "The gravitational force is 4.384492409975816e-05\n"
          ]
        }
      ]
    },
    {
      "cell_type": "code",
      "source": [],
      "metadata": {
        "id": "zIsxGSVLyl8j"
      },
      "execution_count": null,
      "outputs": []
    }
  ]
}